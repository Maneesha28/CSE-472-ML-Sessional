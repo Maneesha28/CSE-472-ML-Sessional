{
  "nbformat": 4,
  "nbformat_minor": 0,
  "metadata": {
    "colab": {
      "provenance": []
    },
    "kernelspec": {
      "name": "python3",
      "display_name": "Python 3"
    },
    "language_info": {
      "name": "python"
    }
  },
  "cells": [
    {
      "cell_type": "code",
      "source": [
        "!pip install tabulate"
      ],
      "metadata": {
        "colab": {
          "base_uri": "https://localhost:8080/"
        },
        "id": "XgS57FrDWANW",
        "outputId": "2e02f50d-b85a-457a-8934-6c1ad6cc2a06"
      },
      "execution_count": null,
      "outputs": [
        {
          "output_type": "stream",
          "name": "stdout",
          "text": [
            "Requirement already satisfied: tabulate in /usr/local/lib/python3.10/dist-packages (0.9.0)\n"
          ]
        }
      ]
    },
    {
      "cell_type": "code",
      "execution_count": null,
      "metadata": {
        "id": "xdcT9Fjmrsp6"
      },
      "outputs": [],
      "source": [
        "import numpy as np\n",
        "import pandas as pd\n",
        "import matplotlib.pyplot as plt\n",
        "from sklearn.preprocessing import StandardScaler, LabelEncoder, OneHotEncoder\n",
        "from sklearn.model_selection import train_test_split\n",
        "from sklearn.impute import SimpleImputer\n",
        "from tqdm import tqdm\n",
        "import seaborn as sns\n",
        "from tabulate import tabulate"
      ]
    },
    {
      "cell_type": "code",
      "source": [
        "class LogisticRegression:\n",
        "    def __init__(self, learning_rate=0.05, n_iterations=1000):\n",
        "        self.learning_rate = learning_rate\n",
        "        self.n_iterations = n_iterations\n",
        "        self.weights = None\n",
        "        self.bias = None\n",
        "\n",
        "    def sigmoid(self, z):\n",
        "        return 1 / (1 + np.exp(-z))\n",
        "\n",
        "    def fit(self, X, y):\n",
        "        n_samples, n_features = X.shape\n",
        "        self.weights = np.zeros(n_features)\n",
        "        self.bias = 0\n",
        "\n",
        "        for _ in range(self.n_iterations) :\n",
        "            z = np.dot(X, self.weights) + self.bias\n",
        "            y_hat = self.sigmoid(z)\n",
        "\n",
        "            # Gradient Descent\n",
        "            dw = (1/n_samples) * np.dot(X.T, (y_hat - y))\n",
        "            db = (1/n_samples) * np.sum(y_hat - y)\n",
        "\n",
        "            self.weights -= self.learning_rate * dw\n",
        "            self.bias -= self.learning_rate * db\n",
        "\n",
        "    def predict(self, X):\n",
        "        z = np.dot(X, self.weights) + self.bias\n",
        "        predictions = self.sigmoid(z)\n",
        "        return np.round(predictions)"
      ],
      "metadata": {
        "id": "2vnwEWZKtnJy"
      },
      "execution_count": null,
      "outputs": []
    },
    {
      "cell_type": "code",
      "source": [
        "class AdaBoost:\n",
        "    def __init__(self, n_hypotheses=50):\n",
        "        self.n_hypotheses = n_hypotheses\n",
        "        self.models = []\n",
        "        self.model_weights = []\n",
        "\n",
        "    def resample(self, X, y, weights):\n",
        "        n_samples = X.shape[0]\n",
        "        sample_indices = np.random.choice(n_samples, n_samples, replace=True)\n",
        "\n",
        "        X_sampled = X[sample_indices]\n",
        "        Y_sampled = y[sample_indices]\n",
        "        weights_sampled = weights[sample_indices]\n",
        "\n",
        "        return X[sample_indices], y[sample_indices], weights[sample_indices]\n",
        "\n",
        "    def fit(self, X, y):\n",
        "        n_samples = X.shape[0]\n",
        "        weights = np.ones(n_samples) / n_samples\n",
        "\n",
        "        for _ in range(self.n_hypotheses):\n",
        "            X_sampled, y_sampled, weights_sampled = self.resample(X, y, weights)\n",
        "            weak_model = LogisticRegression()\n",
        "            weak_model.fit(X_sampled, y_sampled)\n",
        "            self.models.append(weak_model)\n",
        "\n",
        "            error = 0\n",
        "            y_hat = weak_model.predict(X)\n",
        "\n",
        "            error = np.sum(weights[y_hat != y])\n",
        "\n",
        "            # Ensure the error is not exactly 0 or 1 to avoid division by zero\n",
        "            error = max(error, 1e-10)\n",
        "            error = min(error, 1 - 1e-10)\n",
        "\n",
        "            if error > 0.5:\n",
        "                continue\n",
        "\n",
        "            weights[y_hat == y] *= error / (1 - error)\n",
        "\n",
        "            # normalize weights\n",
        "            weights /= np.sum(weights)\n",
        "\n",
        "            self.model_weights.append(np.log((1 - error) / error))\n",
        "\n",
        "            # # Calculate alpha (weight for the weak learner)\n",
        "            # alpha = 0.5 * np.log((1 - error) / error)\n",
        "            # self.alphas.append(alpha)\n",
        "\n",
        "            # # Update weights\n",
        "            # weights *= np.exp(-alpha * y * predictions)\n",
        "            # weights /= np.sum(weights)\n",
        "\n",
        "    def predict(self, X):\n",
        "        # Combine predictions of weak learners using weighted sum\n",
        "        predictions = np.sum(alpha * model.predict(X) for alpha, model in zip(self.model_weights, self.models))\n",
        "        return np.sign(predictions)"
      ],
      "metadata": {
        "id": "NZ9QmrgftrYG"
      },
      "execution_count": null,
      "outputs": []
    },
    {
      "cell_type": "code",
      "source": [
        "def calculate_accuracy(y_true, y_pred):\n",
        "    correct_predictions = np.sum(y_true == y_pred)\n",
        "    total_predictions = len(y_true)\n",
        "    accuracy = correct_predictions / total_predictions\n",
        "    return accuracy*100\n",
        "\n",
        "def calculate_true_positive_rate(y_true, y_pred):\n",
        "    true_positives = np.sum((y_true == 1) & (y_pred == 1))\n",
        "    actual_positives = np.sum(y_true == 1)\n",
        "    true_positive_rate = true_positives / actual_positives\n",
        "    return true_positive_rate*100\n",
        "\n",
        "def calculate_true_negative_rate(y_true, y_pred):\n",
        "    true_negatives = np.sum((y_true == 0) & (y_pred == 0))\n",
        "    actual_negatives = np.sum(y_true == 0)\n",
        "    true_negative_rate = true_negatives / actual_negatives\n",
        "    return true_negative_rate*100\n",
        "\n",
        "def calculate_positive_predictive_value(y_true, y_pred):\n",
        "    true_positives = np.sum((y_true == 1) & (y_pred == 1))\n",
        "    predicted_positives = np.sum(y_pred == 1)\n",
        "    positive_predictive_value = true_positives / predicted_positives\n",
        "    return positive_predictive_value*100\n",
        "\n",
        "def calculate_false_discovery_rate(y_true, y_pred):\n",
        "    false_positives = np.sum((y_true == 0) & (y_pred == 1))\n",
        "    predicted_positives = np.sum(y_pred == 1)\n",
        "    false_discovery_rate = false_positives / predicted_positives\n",
        "    return false_discovery_rate*100\n",
        "\n",
        "def calculate_f1_score(y_true, y_pred):\n",
        "    true_positives = np.sum((y_true == 1) & (y_pred == 1))\n",
        "    false_positives = np.sum((y_true == 0) & (y_pred == 1))\n",
        "    false_negatives = np.sum((y_true == 1) & (y_pred == 0))\n",
        "    precision = true_positives / (true_positives + false_positives)\n",
        "    recall = true_positives / (true_positives + false_negatives)\n",
        "    f1_score = 2 * (precision * recall) / (precision + recall)\n",
        "    return f1_score*100"
      ],
      "metadata": {
        "id": "BTNvFfwst0lf"
      },
      "execution_count": null,
      "outputs": []
    },
    {
      "cell_type": "code",
      "source": [
        "def print_performance_measures(y_true, y_pred):\n",
        "    results = np.zeros((1, 6))  # 1 row, 6 columns\n",
        "\n",
        "    results[0, 0] = calculate_accuracy(y_true, y_pred).round(2)\n",
        "    results[0, 1] = calculate_true_positive_rate(y_true, y_pred).round(2)\n",
        "    results[0, 2] = calculate_true_negative_rate(y_true, y_pred).round(2)\n",
        "    results[0, 3] = calculate_positive_predictive_value(y_true, y_pred).round(2)\n",
        "    results[0, 4] = calculate_false_discovery_rate(y_true, y_pred).round(2)\n",
        "    results[0, 5] = calculate_f1_score(y_true, y_pred).round(2)\n",
        "\n",
        "    results_str = np.char.add(results.astype(str), '%')\n",
        "\n",
        "    # Print the results in a table format\n",
        "    column_names = ['Accuracy', 'Sensitivity (TPR)', 'Specificity (TNR)', 'Precision', 'FDR', 'F1_score']\n",
        "    print(tabulate(results_str, headers=column_names, tablefmt='grid'))\n"
      ],
      "metadata": {
        "id": "ntFpwhurRsHN"
      },
      "execution_count": null,
      "outputs": []
    },
    {
      "cell_type": "code",
      "source": [
        "def load_and_split_dataset(filename):\n",
        "  df = pd.read_csv('./'+filename)\n",
        "  df_train, df_test = train_test_split(df, test_size=0.2, random_state=47)\n",
        "  return df_train, df_test"
      ],
      "metadata": {
        "id": "OR6uMCNgt673"
      },
      "execution_count": null,
      "outputs": []
    },
    {
      "cell_type": "code",
      "source": [
        "def churn_dataset_visualization(df1):\n",
        "\n",
        "  colors = ['#E94B3C', '#2D2926']\n",
        "\n",
        "  churned_data = df1[df1['Churn'] == 1]\n",
        "  not_churned_data = df1[df1['Churn'] == 0]\n",
        "\n",
        "  fig, axes = plt.subplots(nrows=len(df1.columns)-1, ncols=1, figsize=(5, 5 * len(df1.columns)))\n",
        "\n",
        "  for i, feature in enumerate(df1.columns[:-1]):  # Exclude the 'Churn' column\n",
        "      ax = axes[i]\n",
        "\n",
        "      # Plot for both Churned and Not Churned Customers\n",
        "      sns.barplot(x='Churn', y=feature, data=df1, ax=ax, palette=colors)\n",
        "      ax.set_title(f'{feature}')\n",
        "      ax.set_ylabel('')\n",
        "      ax.set_xticklabels(['Churned', 'Not Churned'])\n",
        "\n",
        "  plt.tight_layout()\n",
        "  plt.show()"
      ],
      "metadata": {
        "id": "Gfx-N3QG20mx"
      },
      "execution_count": null,
      "outputs": []
    },
    {
      "cell_type": "code",
      "source": [
        "# churn_dataset_visualization(df_train)"
      ],
      "metadata": {
        "id": "U9-Sc8VQ3Chh"
      },
      "execution_count": null,
      "outputs": []
    },
    {
      "cell_type": "code",
      "source": [
        "def calculate_entropy(class_labels):\n",
        "\n",
        "    unique_labels, counts = np.unique(class_labels, return_counts=True)\n",
        "    probabilities = counts / len(class_labels)\n",
        "    entropy = -np.sum(probabilities * np.log2(probabilities + 1e-10))\n",
        "\n",
        "    return entropy"
      ],
      "metadata": {
        "id": "799dGAzl9Y_h"
      },
      "execution_count": null,
      "outputs": []
    },
    {
      "cell_type": "code",
      "source": [
        "def information_gain(X, y, feature_index):\n",
        "    \"\"\"\n",
        "    Calculate information gain for a specific feature in a dataset.\n",
        "\n",
        "    Parameters:\n",
        "    - X: 2D numpy array, input features (rows are samples, columns are features)\n",
        "    - y: 1D numpy array, target variable\n",
        "    - feature_index: int, index of the feature for which information gain is calculated\n",
        "\n",
        "    Returns:\n",
        "    - information_gain: float, information gain for the specified feature\n",
        "    \"\"\"\n",
        "    total_entropy = calculate_entropy(y)\n",
        "\n",
        "    unique_values = np.unique(X.iloc[:, feature_index])\n",
        "    weighted_entropies = np.zeros_like(unique_values, dtype=float)\n",
        "\n",
        "    for i, value in enumerate(unique_values):\n",
        "        subset_indices = X.iloc[:, feature_index] == value\n",
        "        subset_entropy = calculate_entropy(y[subset_indices])\n",
        "        weighted_entropies[i] = np.sum(subset_indices) / len(y) * subset_entropy\n",
        "\n",
        "    information_gain = total_entropy - np.sum(weighted_entropies)\n",
        "\n",
        "    return information_gain\n"
      ],
      "metadata": {
        "id": "phSh-E-L9ck7"
      },
      "execution_count": null,
      "outputs": []
    },
    {
      "cell_type": "code",
      "source": [
        "def churn_dataset_feature_selection(X, y, k=15):\n",
        "    num_features = X.shape[1]\n",
        "    info_gains = []\n",
        "\n",
        "    for feature_index in range(num_features):\n",
        "        gain = information_gain(X, y, feature_index)\n",
        "        info_gains.append((feature_index, gain))\n",
        "\n",
        "    # Sort features based on information gain in descending order\n",
        "    sorted_info_gains = sorted(info_gains, key=lambda x: x[1], reverse=True)\n",
        "\n",
        "    # Extract the top k feature indices\n",
        "    selected_columns = [index for index, _ in sorted_info_gains[:k]]\n",
        "\n",
        "    # print(X.columns[selected_columns])\n",
        "\n",
        "    # Select only the top k features from the dataset\n",
        "    X_selected = X.iloc[:, selected_columns]\n",
        "\n",
        "    return X_selected\n"
      ],
      "metadata": {
        "id": "ISWZCpwJ9qNT"
      },
      "execution_count": null,
      "outputs": []
    },
    {
      "cell_type": "code",
      "source": [
        "def churn_dataset_preprocessing(df, no_of_selected_features=16):\n",
        "  df.drop('customerID', axis='columns', inplace=True)\n",
        "\n",
        "  # Change TotalCharges to numeric and NaN values filled with mean\n",
        "  df['TotalCharges'] = pd.to_numeric(df['TotalCharges'], errors='coerce')\n",
        "  numeric_imputer = SimpleImputer(missing_values=np.nan, strategy='mean')\n",
        "  df['TotalCharges'] = numeric_imputer.fit_transform(df[['TotalCharges']])\n",
        "\n",
        "  #Standardizing numeric columns\n",
        "  standard_scaler = StandardScaler()\n",
        "\n",
        "  for key in ['tenure', 'MonthlyCharges', 'TotalCharges']:\n",
        "      df[key] = standard_scaler.fit_transform(df[[key]])\n",
        "\n",
        "  df['Churn'].replace({'Yes': 1, 'No': 0}, inplace=True)\n",
        "  df_y = df['Churn']\n",
        "  df.drop(['Churn'], inplace=True, axis=1)\n",
        "\n",
        "  # do feature selection before one-hot encoding\n",
        "  df = churn_dataset_feature_selection(df, df_y, no_of_selected_features)\n",
        "\n",
        "  # Identify categorical features\n",
        "  categorical_features = [col for col in df.columns if col not in df.describe().columns]\n",
        "\n",
        "  # Identify binary categorical features\n",
        "  binary_categorical_features = [col for col in categorical_features if df[col].nunique() == 2]\n",
        "\n",
        "  # Identify non-binary categorical features\n",
        "  non_binary_categorical_features = [col for col in categorical_features if col not in binary_categorical_features]\n",
        "\n",
        "  # Apply label encoding for binary categorical features\n",
        "  label_encoder = LabelEncoder()\n",
        "\n",
        "  for feature in binary_categorical_features :\n",
        "    df[feature] = label_encoder.fit_transform(df[feature])\n",
        "\n",
        "  # Apply one-hot encoding using get_dummies for non-binary categorical features\n",
        "  df = pd.get_dummies(df, columns=non_binary_categorical_features)\n",
        "\n",
        "  return df, df_y"
      ],
      "metadata": {
        "id": "P3qGDtJdv1RQ"
      },
      "execution_count": null,
      "outputs": []
    },
    {
      "cell_type": "code",
      "source": [
        "df_train, df_test = load_and_split_dataset('WA_Fn-UseC_-Telco-Customer-Churn.csv')\n",
        "# df_train.head()\n",
        "# df_train.info()\n",
        "# df_train.describe().T\n",
        "df_train, df_train_y = churn_dataset_preprocessing(df_train)\n",
        "df_test, df_test_y = churn_dataset_preprocessing(df_test)\n",
        "# df_train.head()"
      ],
      "metadata": {
        "colab": {
          "base_uri": "https://localhost:8080/"
        },
        "id": "jjP6XruP0MzI",
        "outputId": "1af43598-3379-4bb2-c318-eed56b44b924"
      },
      "execution_count": null,
      "outputs": [
        {
          "output_type": "stream",
          "name": "stdout",
          "text": [
            "Index(['TotalCharges', 'MonthlyCharges', 'Contract', 'tenure',\n",
            "       'OnlineSecurity', 'TechSupport', 'InternetService', 'OnlineBackup',\n",
            "       'DeviceProtection', 'PaymentMethod', 'StreamingMovies', 'StreamingTV',\n",
            "       'PaperlessBilling', 'Dependents', 'Partner', 'SeniorCitizen'],\n",
            "      dtype='object')\n"
          ]
        },
        {
          "output_type": "stream",
          "name": "stderr",
          "text": [
            "<ipython-input-97-cabe857eaeab>:35: SettingWithCopyWarning: \n",
            "A value is trying to be set on a copy of a slice from a DataFrame.\n",
            "Try using .loc[row_indexer,col_indexer] = value instead\n",
            "\n",
            "See the caveats in the documentation: https://pandas.pydata.org/pandas-docs/stable/user_guide/indexing.html#returning-a-view-versus-a-copy\n",
            "  df[feature] = label_encoder.fit_transform(df[feature])\n",
            "<ipython-input-97-cabe857eaeab>:35: SettingWithCopyWarning: \n",
            "A value is trying to be set on a copy of a slice from a DataFrame.\n",
            "Try using .loc[row_indexer,col_indexer] = value instead\n",
            "\n",
            "See the caveats in the documentation: https://pandas.pydata.org/pandas-docs/stable/user_guide/indexing.html#returning-a-view-versus-a-copy\n",
            "  df[feature] = label_encoder.fit_transform(df[feature])\n",
            "<ipython-input-97-cabe857eaeab>:35: SettingWithCopyWarning: \n",
            "A value is trying to be set on a copy of a slice from a DataFrame.\n",
            "Try using .loc[row_indexer,col_indexer] = value instead\n",
            "\n",
            "See the caveats in the documentation: https://pandas.pydata.org/pandas-docs/stable/user_guide/indexing.html#returning-a-view-versus-a-copy\n",
            "  df[feature] = label_encoder.fit_transform(df[feature])\n"
          ]
        },
        {
          "output_type": "stream",
          "name": "stdout",
          "text": [
            "Index(['TotalCharges', 'MonthlyCharges', 'Contract', 'tenure',\n",
            "       'OnlineSecurity', 'TechSupport', 'InternetService', 'PaymentMethod',\n",
            "       'DeviceProtection', 'OnlineBackup', 'StreamingMovies', 'StreamingTV',\n",
            "       'PaperlessBilling', 'SeniorCitizen', 'Dependents', 'Partner'],\n",
            "      dtype='object')\n"
          ]
        },
        {
          "output_type": "stream",
          "name": "stderr",
          "text": [
            "<ipython-input-97-cabe857eaeab>:35: SettingWithCopyWarning: \n",
            "A value is trying to be set on a copy of a slice from a DataFrame.\n",
            "Try using .loc[row_indexer,col_indexer] = value instead\n",
            "\n",
            "See the caveats in the documentation: https://pandas.pydata.org/pandas-docs/stable/user_guide/indexing.html#returning-a-view-versus-a-copy\n",
            "  df[feature] = label_encoder.fit_transform(df[feature])\n",
            "<ipython-input-97-cabe857eaeab>:35: SettingWithCopyWarning: \n",
            "A value is trying to be set on a copy of a slice from a DataFrame.\n",
            "Try using .loc[row_indexer,col_indexer] = value instead\n",
            "\n",
            "See the caveats in the documentation: https://pandas.pydata.org/pandas-docs/stable/user_guide/indexing.html#returning-a-view-versus-a-copy\n",
            "  df[feature] = label_encoder.fit_transform(df[feature])\n",
            "<ipython-input-97-cabe857eaeab>:35: SettingWithCopyWarning: \n",
            "A value is trying to be set on a copy of a slice from a DataFrame.\n",
            "Try using .loc[row_indexer,col_indexer] = value instead\n",
            "\n",
            "See the caveats in the documentation: https://pandas.pydata.org/pandas-docs/stable/user_guide/indexing.html#returning-a-view-versus-a-copy\n",
            "  df[feature] = label_encoder.fit_transform(df[feature])\n"
          ]
        }
      ]
    },
    {
      "cell_type": "code",
      "source": [
        "for K in [5, 10, 15, 20]:\n",
        "  adaboost = AdaBoost(K)\n",
        "  adaboost.fit(df_train.to_numpy(), df_train_y.to_numpy())\n",
        "  y_predict = adaboost.predict(df_test.to_numpy())\n",
        "  # print('\\n')\n",
        "# print(calculate_f1_score(df_test_y.to_numpy(), y_predict))\n",
        "  print(calculate_accuracy(df_test_y.to_numpy(), y_predict))"
      ],
      "metadata": {
        "colab": {
          "base_uri": "https://localhost:8080/"
        },
        "id": "Cwp0JhkbGOtc",
        "outputId": "9f5f36b5-abc8-4309-f2a7-bbe1835c6dc7"
      },
      "execution_count": null,
      "outputs": [
        {
          "output_type": "stream",
          "name": "stderr",
          "text": [
            "<ipython-input-133-ff38220cc691>:56: DeprecationWarning: Calling np.sum(generator) is deprecated, and in the future will give a different result. Use np.sum(np.fromiter(generator)) or the python sum builtin instead.\n",
            "  predictions = np.sum(alpha * model.predict(X) for alpha, model in zip(self.model_weights, self.models))\n"
          ]
        },
        {
          "output_type": "stream",
          "name": "stdout",
          "text": [
            "77.85663591199432\n",
            "77.64371894960965\n",
            "77.85663591199432\n",
            "77.71469127040454\n"
          ]
        }
      ]
    },
    {
      "cell_type": "code",
      "source": [
        "print_performance_measures(df_test_y.to_numpy(), y_predict)"
      ],
      "metadata": {
        "colab": {
          "base_uri": "https://localhost:8080/"
        },
        "id": "CLZxqV_kUJoY",
        "outputId": "c70ca5cc-2ab4-4e54-f110-9c86489e0b29"
      },
      "execution_count": null,
      "outputs": [
        {
          "output_type": "stream",
          "name": "stdout",
          "text": [
            "+------------+---------------------+---------------------+-------------+-------+------------+\n",
            "| Accuracy   | Sensitivity (TPR)   | Specificity (TNR)   | Precision   | FDR   | F1_score   |\n",
            "+============+=====================+=====================+=============+=======+============+\n",
            "| 77.71%     | 44.42%              | 90.23%              | 63.1%       | 36.9% | 52.13%     |\n",
            "+------------+---------------------+---------------------+-------------+-------+------------+\n"
          ]
        }
      ]
    },
    {
      "cell_type": "code",
      "source": [
        "logistic_regression = LogisticRegression()\n",
        "logistic_regression.fit(df_train.to_numpy(), df_train_y.to_numpy())\n",
        "y_predict = logistic_regression.predict(df_test.to_numpy())\n",
        "print('\\n')\n",
        "print_performance_measures(df_test_y.to_numpy(), y_predict)"
      ],
      "metadata": {
        "colab": {
          "base_uri": "https://localhost:8080/"
        },
        "id": "AZ1BABf6XS8n",
        "outputId": "2d38d9f7-246b-4289-8ef7-56927bb06ec6"
      },
      "execution_count": null,
      "outputs": [
        {
          "output_type": "stream",
          "name": "stderr",
          "text": [
            "100%|██████████| 1000/1000 [00:00<00:00, 2539.64it/s]"
          ]
        },
        {
          "output_type": "stream",
          "name": "stdout",
          "text": [
            "\n",
            "\n",
            "+------------+---------------------+---------------------+-------------+--------+------------+\n",
            "| Accuracy   | Sensitivity (TPR)   | Specificity (TNR)   | Precision   | FDR    | F1_score   |\n",
            "+============+=====================+=====================+=============+========+============+\n",
            "| 77.64%     | 36.88%              | 92.97%              | 66.36%      | 33.64% | 47.41%     |\n",
            "+------------+---------------------+---------------------+-------------+--------+------------+\n"
          ]
        },
        {
          "output_type": "stream",
          "name": "stderr",
          "text": [
            "\n"
          ]
        }
      ]
    }
  ]
}