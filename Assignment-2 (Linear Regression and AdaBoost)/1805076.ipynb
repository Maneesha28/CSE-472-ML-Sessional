{
 "cells": [
  {
   "cell_type": "code",
   "execution_count": 1,
   "metadata": {},
   "outputs": [],
   "source": [
    "import numpy as np\n",
    "import pandas as pd\n",
    "import matplotlib.pyplot as plt\n",
    "from sklearn.preprocessing import StandardScaler, RobustScaler, LabelEncoder, OneHotEncoder\n",
    "from sklearn.model_selection import train_test_split, StratifiedKFold\n",
    "from sklearn.impute import SimpleImputer\n",
    "from sklearn.feature_selection import mutual_info_classif, SelectKBest\n",
    "from tqdm import tqdm\n",
    "import seaborn as sns\n",
    "from tabulate import tabulate"
   ]
  },
  {
   "cell_type": "code",
   "execution_count": 2,
   "metadata": {},
   "outputs": [],
   "source": [
    "seed = 42\n",
    "np.random.seed(seed)"
   ]
  },
  {
   "cell_type": "markdown",
   "metadata": {},
   "source": [
    "## Logistic Regression, Ada-boost and Metrics"
   ]
  },
  {
   "cell_type": "code",
   "execution_count": 3,
   "metadata": {},
   "outputs": [],
   "source": [
    "class LogisticRegression:\n",
    "    def __init__(self, learning_rate=0.02, n_iterations=1000):\n",
    "        self.learning_rate = learning_rate\n",
    "        self.n_iterations = n_iterations\n",
    "        self.weights = None\n",
    "        self.bias = None\n",
    "\n",
    "    def sigmoid(self, z):\n",
    "        return 1 / (1 + np.exp(-z))\n",
    "\n",
    "    def fit(self, X, y):\n",
    "        n_samples, n_features = X.shape\n",
    "        # self.weights = np.zeros(n_features)\n",
    "        self.weights = np.random.rand(n_features)\n",
    "        self.bias = 0\n",
    "\n",
    "        for _ in range(self.n_iterations) :\n",
    "            # z = np.dot(X, self.weights) + self.bias\n",
    "            z = np.array((np.dot(X, self.weights) + self.bias), dtype=float)\n",
    "            y_hat = self.sigmoid(z)\n",
    "\n",
    "            # Gradient Descent\n",
    "            dw = (1/n_samples) * np.dot(X.T, (y_hat - y))\n",
    "            db = (1/n_samples) * np.sum(y_hat - y)\n",
    "\n",
    "            self.weights = self.weights - self.learning_rate * dw\n",
    "            self.bias = self.bias - self.learning_rate * db\n",
    "\n",
    "    def predict(self, X):\n",
    "        z = np.array((np.dot(X, self.weights) + self.bias), dtype=float)\n",
    "        predictions = self.sigmoid(z)\n",
    "        return np.round(predictions)"
   ]
  },
  {
   "cell_type": "code",
   "execution_count": 4,
   "metadata": {},
   "outputs": [],
   "source": [
    "class AdaBoost:\n",
    "    def __init__(self, n_hypotheses=100):\n",
    "        self.n_hypotheses = n_hypotheses\n",
    "        self.models = []\n",
    "        self.model_weights = []\n",
    "\n",
    "    def resample(self, X, y, weights):\n",
    "        n_samples = X.shape[0]\n",
    "        sample_indices = np.random.choice(n_samples, n_samples, replace=True)\n",
    "\n",
    "        X_sampled = X[sample_indices]\n",
    "        Y_sampled = y[sample_indices]\n",
    "        weights_sampled = weights[sample_indices]\n",
    "\n",
    "        return X[sample_indices], y[sample_indices], weights[sample_indices]\n",
    "\n",
    "    def fit(self, X, y):\n",
    "        n_samples = X.shape[0]\n",
    "        weights = np.ones(n_samples) / n_samples\n",
    "\n",
    "        for _ in tqdm(range(self.n_hypotheses)):\n",
    "            X_sampled, y_sampled, weights_sampled = self.resample(X, y, weights)\n",
    "            weak_model = LogisticRegression()\n",
    "            weak_model.fit(X_sampled, y_sampled)\n",
    "            self.models.append(weak_model)\n",
    "\n",
    "            error = 0\n",
    "            y_hat = weak_model.predict(X)\n",
    "\n",
    "            error = np.sum(weights[y_hat != y])\n",
    "\n",
    "            # Ensure the error is not exactly 0 or 1 to avoid division by zero\n",
    "            error = max(error, 1e-10)\n",
    "            error = min(error, 1 - 1e-10)\n",
    "\n",
    "            if error > 0.5:\n",
    "                continue\n",
    "\n",
    "            weights[y_hat == y] *= error / (1 - error)\n",
    "\n",
    "            # normalize weights\n",
    "            weights /= np.sum(weights)\n",
    "\n",
    "            self.model_weights.append(np.log((1 - error) / error))\n",
    "\n",
    "    def predict(self, X):\n",
    "        # Combine predictions of weak learners using weighted sum\n",
    "        predictions = np.sum(alpha * model.predict(X) for alpha, model in zip(self.model_weights, self.models))\n",
    "        return np.sign(predictions)\n"
   ]
  },
  {
   "cell_type": "code",
   "execution_count": 5,
   "metadata": {},
   "outputs": [],
   "source": [
    "def calculate_accuracy(y_true, y_pred):\n",
    "    correct_predictions = np.sum(y_true == y_pred)\n",
    "    total_predictions = len(y_true)\n",
    "    accuracy = (correct_predictions / total_predictions)*100\n",
    "    return accuracy.round(2)\n",
    "\n",
    "def calculate_true_positive_rate(y_true, y_pred):\n",
    "    true_positives = np.sum((y_true == 1) & (y_pred == 1))\n",
    "    actual_positives = np.sum(y_true == 1)\n",
    "    true_positive_rate = (true_positives / actual_positives)*100\n",
    "    return true_positive_rate.round(2)\n",
    "\n",
    "def calculate_true_negative_rate(y_true, y_pred):\n",
    "    true_negatives = np.sum((y_true == 0) & (y_pred == 0))\n",
    "    actual_negatives = np.sum(y_true == 0)\n",
    "    true_negative_rate = (true_negatives / actual_negatives)*100\n",
    "    return true_negative_rate.round(2)\n",
    "\n",
    "def calculate_positive_predictive_value(y_true, y_pred):\n",
    "    true_positives = np.sum((y_true == 1) & (y_pred == 1))\n",
    "    predicted_positives = np.sum(y_pred == 1)\n",
    "    positive_predictive_value = (true_positives / predicted_positives)*100\n",
    "    return positive_predictive_value.round(2)\n",
    "\n",
    "def calculate_false_discovery_rate(y_true, y_pred):\n",
    "    false_positives = np.sum((y_true == 0) & (y_pred == 1))\n",
    "    predicted_positives = np.sum(y_pred == 1)\n",
    "    false_discovery_rate = (false_positives / predicted_positives)*100\n",
    "    return false_discovery_rate.round(2)\n",
    "\n",
    "def calculate_f1_score(y_true, y_pred):\n",
    "    true_positives = np.sum((y_true == 1) & (y_pred == 1))\n",
    "    false_positives = np.sum((y_true == 0) & (y_pred == 1))\n",
    "    false_negatives = np.sum((y_true == 1) & (y_pred == 0))\n",
    "    precision = true_positives / (true_positives + false_positives)\n",
    "    recall = true_positives / (true_positives + false_negatives)\n",
    "    f1_score = (2 * (precision * recall) / (precision + recall))*100\n",
    "    return f1_score.round(2)"
   ]
  },
  {
   "cell_type": "code",
   "execution_count": 6,
   "metadata": {},
   "outputs": [],
   "source": [
    "def print_performance_measures(y_true, y_pred):\n",
    "    results = np.zeros((1, 6))  # 1 row, 6 columns\n",
    "\n",
    "    results[0, 0] = calculate_accuracy(y_true, y_pred)\n",
    "    results[0, 1] = calculate_true_positive_rate(y_true, y_pred)\n",
    "    results[0, 2] = calculate_true_negative_rate(y_true, y_pred)\n",
    "    results[0, 3] = calculate_positive_predictive_value(y_true, y_pred)\n",
    "    results[0, 4] = calculate_false_discovery_rate(y_true, y_pred)\n",
    "    results[0, 5] = calculate_f1_score(y_true, y_pred)\n",
    "\n",
    "    results_str = np.char.add(results.astype(str), '%')\n",
    "\n",
    "    # Print the results in a table format\n",
    "    column_names = ['Accuracy', 'Sensitivity (TPR)', 'Specificity (TNR)', 'Precision', 'FDR', 'F1_score']\n",
    "    print(tabulate(results_str, headers=column_names, tablefmt='grid'))"
   ]
  },
  {
   "cell_type": "code",
   "execution_count": 7,
   "metadata": {},
   "outputs": [],
   "source": [
    "def RunLogisticRegression(df_train, df_train_y, df_test, df_test_y):\n",
    "  logistic_regression = LogisticRegression()\n",
    "  logistic_regression.fit(df_train.to_numpy(), df_train_y.to_numpy())\n",
    "  y_predict = logistic_regression.predict(df_test.to_numpy())\n",
    "  print('\\n')\n",
    "  print_performance_measures(df_test_y.to_numpy(), y_predict)"
   ]
  },
  {
   "cell_type": "code",
   "execution_count": 8,
   "metadata": {},
   "outputs": [],
   "source": [
    "def RunAdaBoostAlgo(df_train, df_train_y, df_test, df_test_y):\n",
    "  for K in [5, 10, 15, 20]:\n",
    "    adaboost = AdaBoost(K)\n",
    "    adaboost.fit(df_train.to_numpy(), df_train_y.to_numpy())\n",
    "    y_predict = adaboost.predict(df_test.to_numpy())\n",
    "  # print('\\n')\n",
    "  # print(\"K =\", K, \": F1_Score =\", calculate_f1_score(df_test_y.to_numpy(), y_predict), \"% \\t Accuracy =\", calculate_accuracy(df_test_y.to_numpy(), y_predict), \"%\")\n",
    "    print(K, \": \", calculate_accuracy(df_test_y.to_numpy(), y_predict), \"%\")"
   ]
  },
  {
   "cell_type": "markdown",
   "metadata": {},
   "source": [
    "## Telco Dataset"
   ]
  },
  {
   "cell_type": "code",
   "execution_count": 9,
   "metadata": {},
   "outputs": [],
   "source": [
    "def load_and_split_churn_dataset(filename):\n",
    "  df = pd.read_csv(filename)\n",
    "  df_train, df_test = train_test_split(df, test_size=0.2, random_state=42)\n",
    "  return df_train, df_test"
   ]
  },
  {
   "cell_type": "code",
   "execution_count": 10,
   "metadata": {},
   "outputs": [],
   "source": [
    "def churn_dataset_preprocessing(df):\n",
    "  df.drop('customerID', axis='columns', inplace=True)\n",
    "\n",
    "  # Change TotalCharges to numeric and NaN values filled with mean\n",
    "  df['TotalCharges'] = pd.to_numeric(df['TotalCharges'], errors='coerce')\n",
    "  numeric_imputer = SimpleImputer(missing_values=np.nan, strategy='mean')\n",
    "  df['TotalCharges'] = numeric_imputer.fit_transform(df[['TotalCharges']])\n",
    "\n",
    "  #Standardizing numeric columns\n",
    "  standard_scaler = StandardScaler()\n",
    "\n",
    "  for key in ['tenure', 'MonthlyCharges', 'TotalCharges']:\n",
    "      df[key] = standard_scaler.fit_transform(df[[key]])\n",
    "\n",
    "  # Identify categorical features\n",
    "  categorical_features = [col for col in df.columns if col not in df.describe().columns]\n",
    "\n",
    "  # Identify binary categorical features\n",
    "  binary_categorical_features = [col for col in categorical_features if df[col].nunique() == 2]\n",
    "\n",
    "  # Identify non-binary categorical features\n",
    "  non_binary_categorical_features = [col for col in categorical_features if col not in binary_categorical_features]\n",
    "\n",
    "  # Apply label encoding for binary categorical features\n",
    "  label_encoder = LabelEncoder()\n",
    "\n",
    "  for feature in binary_categorical_features :\n",
    "    df[feature] = label_encoder.fit_transform(df[feature])\n",
    "\n",
    "  # Apply one-hot encoding using get_dummies for non-binary categorical features\n",
    "  df = pd.get_dummies(df, columns=non_binary_categorical_features)\n",
    "\n",
    "  df_y = df['Churn']\n",
    "  df.drop(['Churn'], inplace=True, axis=1)\n",
    "\n",
    "  return df, df_y"
   ]
  },
  {
   "cell_type": "code",
   "execution_count": 16,
   "metadata": {},
   "outputs": [],
   "source": [
    "df_train, df_test = load_and_split_churn_dataset('./datasets/WA_Fn-UseC_-Telco-Customer-Churn.csv')\n",
    "df_train, df_train_y = churn_dataset_preprocessing(df_train)\n",
    "df_test, df_test_y = churn_dataset_preprocessing(df_test)"
   ]
  },
  {
   "cell_type": "code",
   "execution_count": null,
   "metadata": {},
   "outputs": [],
   "source": [
    "RunLogisticRegression(df_train, df_train_y, df_test, df_test_y)\n",
    "RunAdaBoostAlgo(df_train, df_train_y, df_test, df_test_y)"
   ]
  },
  {
   "cell_type": "markdown",
   "metadata": {},
   "source": [
    "## Adult Dataset"
   ]
  },
  {
   "cell_type": "code",
   "execution_count": 22,
   "metadata": {},
   "outputs": [],
   "source": [
    "def load_adult_dataset():\n",
    "  df_train = pd.read_csv('./datasets/adult.data', header=None)\n",
    "  columns = ['age', 'workclass', 'fnlwgt', 'education', 'education-num', 'marital_status', 'occupation', 'relationship', 'race', 'sex',\n",
    "            'capital-gain', 'capital-loss', 'hours-per-week', 'native-country', 'income']\n",
    "  df_train.columns = columns\n",
    "  df_test = pd.read_csv('./datasets/adult.test', skiprows=[0])\n",
    "  df_test.columns = columns\n",
    "  return df_train, df_test"
   ]
  },
  {
   "cell_type": "code",
   "execution_count": 23,
   "metadata": {},
   "outputs": [],
   "source": [
    "def adult_dataset_common_preprocessing(df):\n",
    "\n",
    "  categorical_imputer = SimpleImputer(missing_values=np.nan, strategy='most_frequent')\n",
    "\n",
    "  for key in ['workclass', 'occupation', 'native-country']:\n",
    "      df[key].replace({' ?': np.nan}, inplace=True)\n",
    "      categorical_imputer.fit(df[[key]])\n",
    "      df[[key]] = categorical_imputer.transform(df[[key]])\n",
    "\n",
    "  # standardizing specific columns in data_frame\n",
    "  std_scaler = StandardScaler()\n",
    "\n",
    "  for key in ['age', 'fnlwgt', 'education-num', 'capital-gain', 'capital-loss', 'hours-per-week']:\n",
    "      df[key] = std_scaler.fit_transform(df[[key]])\n",
    "\n",
    "  # Identify categorical features\n",
    "  categorical_features = [col for col in df.columns if col not in df.describe().columns]\n",
    "\n",
    "  # Identify binary categorical features\n",
    "  binary_categorical_features = [col for col in categorical_features if df[col].nunique() == 2]\n",
    "\n",
    "  # Identify non-binary categorical features\n",
    "  non_binary_categorical_features = [col for col in categorical_features if col not in binary_categorical_features]\n",
    "\n",
    "  # Apply label encoding for binary categorical features\n",
    "  label_encoder = LabelEncoder()\n",
    "\n",
    "  for feature in binary_categorical_features :\n",
    "    df[feature] = label_encoder.fit_transform(df[feature])\n",
    "\n",
    "  # Apply one-hot encoding using get_dummies for non-binary categorical features\n",
    "  df = pd.get_dummies(df, columns=non_binary_categorical_features)\n",
    "\n",
    "  # separate target column\n",
    "  df_y = df['income']\n",
    "  df.drop(['income'], inplace=True, axis=1)\n",
    "\n",
    "  return df, df_y\n"
   ]
  },
  {
   "cell_type": "code",
   "execution_count": 24,
   "metadata": {},
   "outputs": [],
   "source": [
    "def adult_dataset_preprocessing(df_train, df_test):\n",
    "\n",
    "  # first do the common preprocessing for both training and test data\n",
    "  df_train, df_train_y = adult_dataset_common_preprocessing(df_train)\n",
    "  df_test, df_test_y = adult_dataset_common_preprocessing(df_test)\n",
    "\n",
    "  df_train.drop(['native-country_ Holand-Netherlands'], inplace=True, axis=1)\n",
    "\n",
    "  return df_train, df_train_y, df_test, df_test_y\n"
   ]
  },
  {
   "cell_type": "code",
   "execution_count": 25,
   "metadata": {},
   "outputs": [],
   "source": [
    "adult_df_train, adult_df_test = load_adult_dataset()\n",
    "adult_df_train, adult_df_train_y, adult_df_test, adult_df_test_y = adult_dataset_preprocessing(adult_df_train, adult_df_test)\n"
   ]
  },
  {
   "cell_type": "code",
   "execution_count": null,
   "metadata": {},
   "outputs": [],
   "source": [
    "RunLogisticRegression(adult_df_train, adult_df_train_y, adult_df_test, adult_df_test_y)\n",
    "RunAdaBoostAlgo(adult_df_train, adult_df_train_y, adult_df_test, adult_df_test_y)"
   ]
  },
  {
   "cell_type": "markdown",
   "metadata": {},
   "source": [
    "## Credit Card Dataset"
   ]
  },
  {
   "cell_type": "markdown",
   "metadata": {},
   "source": [
    "Before running the code, make sure to download the dataset from [Kaggle](https://www.kaggle.com/mlg-ulb/creditcardfraud) and include it in the *datasets* folder."
   ]
  },
  {
   "cell_type": "code",
   "execution_count": 26,
   "metadata": {},
   "outputs": [],
   "source": [
    "def cc_dataset_load_and_preprocessing():\n",
    "  df = pd.read_csv('./datasets/creditcard.csv')\n",
    "  # Time and amount columns are not scaled\n",
    "  robust_scaler = RobustScaler()\n",
    "  df['Amount'] = robust_scaler.fit_transform(df[['Amount']])\n",
    "  df['Time'] = robust_scaler.fit_transform(df[['Time']])\n",
    "  cc_df_train, cc_df_test = train_test_split(df, test_size=0.2, random_state=32)\n",
    "\n",
    "  cc_df_train_y = cc_df_train['Class']\n",
    "  cc_df_train.drop(['Class'], inplace=True, axis=1)\n",
    "  cc_df_test_y = cc_df_test['Class']\n",
    "  cc_df_test.drop(['Class'], inplace=True, axis=1)\n",
    "\n",
    "  # Create a SelectKBest object with mutual_info_classif as the scoring function\n",
    "  select_k_best = SelectKBest(score_func=mutual_info_classif, k=22)\n",
    "  _ = select_k_best.fit_transform(cc_df_train, cc_df_train_y)\n",
    "\n",
    "  # Get the indices of the selected features\n",
    "  selected_features_indices = select_k_best.get_support(indices=True)\n",
    "  cc_df_train_new = cc_df_train.iloc[:, selected_features_indices]\n",
    "  cc_df_test_new = cc_df_test.iloc[:, selected_features_indices]\n",
    "\n",
    "  return cc_df_train_new, cc_df_train_y, cc_df_test_new, cc_df_test_y\n"
   ]
  },
  {
   "cell_type": "code",
   "execution_count": 27,
   "metadata": {},
   "outputs": [],
   "source": [
    "df_train, df_train_y, df_test, df_test_y = cc_dataset_load_and_preprocessing()"
   ]
  },
  {
   "cell_type": "code",
   "execution_count": null,
   "metadata": {},
   "outputs": [],
   "source": [
    "RunLogisticRegression(df_train, df_train_y, df_test, df_test_y)\n",
    "RunAdaBoostAlgo(df_train, df_train_y, df_test, df_test_y)"
   ]
  }
 ],
 "metadata": {
  "kernelspec": {
   "display_name": "Python 3",
   "language": "python",
   "name": "python3"
  },
  "language_info": {
   "codemirror_mode": {
    "name": "ipython",
    "version": 3
   },
   "file_extension": ".py",
   "mimetype": "text/x-python",
   "name": "python",
   "nbconvert_exporter": "python",
   "pygments_lexer": "ipython3",
   "version": "3.10.4"
  }
 },
 "nbformat": 4,
 "nbformat_minor": 2
}
